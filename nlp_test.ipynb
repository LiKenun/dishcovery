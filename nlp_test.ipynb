{
 "cells": [
  {
   "cell_type": "markdown",
   "metadata": {},
   "source": [
    "# Lemmatization Function Test"
   ]
  },
  {
   "cell_type": "code",
   "execution_count": 4,
   "metadata": {},
   "outputs": [
    {
     "name": "stdout",
     "output_type": "stream",
     "text": [
      "“chocolate covered strawberries” → “chocolate cover strawberry”\n",
      "“candied orange peels” → “candied orange peel”\n",
      "“braised panda bear steaks” → “braise panda bear steak”\n",
      "“roasted pepper hummus” → “roast pepper hummus”\n"
     ]
    }
   ],
   "source": [
    "from nlp import lemmatize\n",
    "\n",
    "strings = [\n",
    "    'chocolate covered strawberries',\n",
    "    'candied orange peels',\n",
    "    'braised panda bear steaks',\n",
    "    'roasted pepper hummus'\n",
    "]\n",
    "\n",
    "for string in strings:\n",
    "    print(f'“{string}” → “{lemmatize(string)}”')"
   ]
  }
 ],
 "metadata": {
  "kernelspec": {
   "display_name": ".venv",
   "language": "python",
   "name": "python3"
  },
  "language_info": {
   "codemirror_mode": {
    "name": "ipython",
    "version": 3
   },
   "file_extension": ".py",
   "mimetype": "text/x-python",
   "name": "python",
   "nbconvert_exporter": "python",
   "pygments_lexer": "ipython3",
   "version": "3.12.7"
  }
 },
 "nbformat": 4,
 "nbformat_minor": 2
}
